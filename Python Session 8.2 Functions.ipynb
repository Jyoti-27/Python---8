{
 "cells": [
  {
   "cell_type": "markdown",
   "metadata": {},
   "source": [
    "## Functions in Python\n",
    "- Predefined\n",
    "- Userdefined"
   ]
  },
  {
   "cell_type": "code",
   "execution_count": 1,
   "metadata": {},
   "outputs": [
    {
     "data": {
      "text/plain": [
       "[2, 3, 4, 5, 6]"
      ]
     },
     "execution_count": 1,
     "metadata": {},
     "output_type": "execute_result"
    }
   ],
   "source": [
    "list1 = [2, 3, 4, 5]\n",
    "list1.append(6)\n",
    "list1"
   ]
  },
  {
   "cell_type": "code",
   "execution_count": 4,
   "metadata": {},
   "outputs": [
    {
     "data": {
      "text/plain": [
       "11"
      ]
     },
     "execution_count": 4,
     "metadata": {},
     "output_type": "execute_result"
    }
   ],
   "source": [
    "a = 5 \n",
    "b = 6\n",
    "# Create a function to find the sum of a and b\n",
    "def addition(a,b):\n",
    "    return a + b\n",
    "addition(a,b)"
   ]
  },
  {
   "cell_type": "code",
   "execution_count": 2,
   "metadata": {},
   "outputs": [
    {
     "data": {
      "text/plain": [
       "3"
      ]
     },
     "execution_count": 2,
     "metadata": {},
     "output_type": "execute_result"
    }
   ],
   "source": [
    "a = 5 \n",
    "b = 2\n",
    "# Create a function to find the subtraction of a and b\n",
    "def subtraction(a,b):\n",
    "    return a - b\n",
    "subtraction(a,b)"
   ]
  },
  {
   "cell_type": "markdown",
   "metadata": {},
   "source": [
    "#### Write program to find the sum of numbers starting from 1 to 25, 50 to 75 and 90 to 100 using three different for loops"
   ]
  },
  {
   "cell_type": "code",
   "execution_count": 6,
   "metadata": {},
   "outputs": [
    {
     "name": "stdout",
     "output_type": "stream",
     "text": [
      "Sum of integers from 1 to 25 is =  325\n",
      "Sum of integers from 50 to 75 is =  1625\n",
      "Sum of integers from 90 to 100 is =  5014\n"
     ]
    }
   ],
   "source": [
    "sum = 0\n",
    "for i in range(1,26):\n",
    "    sum = sum + i\n",
    "print(\"Sum of integers from 1 to 25 is = \", sum)\n",
    "\n",
    "    \n",
    "sum = 0    \n",
    "for i in range(50,76):\n",
    "    sum = sum + i\n",
    "print(\"Sum of integers from 50 to 75 is = \", sum)\n",
    "\n",
    "    \n",
    "sum = 0\n",
    "for i in range(9,101):\n",
    "    sum = sum + i\n",
    "print(\"Sum of integers from 90 to 100 is = \", sum)\n",
    "    \n",
    "    "
   ]
  },
  {
   "cell_type": "markdown",
   "metadata": {},
   "source": [
    "- Python Program to check given number is Prime number."
   ]
  },
  {
   "cell_type": "code",
   "execution_count": 2,
   "metadata": {},
   "outputs": [
    {
     "name": "stdout",
     "output_type": "stream",
     "text": [
      "Enter a number: 67\n",
      "67 is a Prime Number\n"
     ]
    }
   ],
   "source": [
    "num = int(input(\"Enter a number: \"))\n",
    "# Convert string to int \n",
    "isDivisible = False;\n",
    "i = 2;\n",
    "while i < num:\n",
    "    if num % i == 0:\n",
    "        isDivisible = True;\n",
    "        print(\"{} is divisible by {}\".format(num,i))\n",
    "    i += 1;\n",
    "if isDivisible:\n",
    "    print(\"{} is not a Prime Number\".format(num))\n",
    "else:\n",
    "     print(\"{} is a Prime Number\".format(num))\n",
    "        "
   ]
  },
  {
   "cell_type": "code",
   "execution_count": 10,
   "metadata": {},
   "outputs": [
    {
     "name": "stdout",
     "output_type": "stream",
     "text": [
      "Sum of integers from 1 to 25 is 325\n",
      "Sum of integers from 50 to 75 is 1625\n",
      "Sum of integers from 90 to 100 is 1045\n",
      "Sum of integers from 10 to 45 is 990\n"
     ]
    }
   ],
   "source": [
    "def sum(x,y):\n",
    "    sum = 0\n",
    "    for i in range(x,y + 1):\n",
    "        sum = sum + i\n",
    "    print('Sum of integers from {} to {} is {}'.format(x,y,sum))\n",
    "sum(1,25)\n",
    "sum(50,75)\n",
    "sum(90,100)\n",
    "sum(10,45)"
   ]
  },
  {
   "cell_type": "code",
   "execution_count": 12,
   "metadata": {},
   "outputs": [
    {
     "data": {
      "text/plain": [
       "25"
      ]
     },
     "execution_count": 12,
     "metadata": {},
     "output_type": "execute_result"
    }
   ],
   "source": [
    "# Write a program to find the square of the function\n",
    "def square(a):\n",
    "    return a ** 2\n",
    "square(5)\n",
    "\n"
   ]
  },
  {
   "cell_type": "code",
   "execution_count": 19,
   "metadata": {},
   "outputs": [
    {
     "name": "stdout",
     "output_type": "stream",
     "text": [
      "The square of 5 is 25\n"
     ]
    }
   ],
   "source": [
    "def square(a):\n",
    "    square = a ** 2\n",
    "    print(\"The square of {} is {}\".format(a,square))\n",
    "square(5)"
   ]
  },
  {
   "cell_type": "code",
   "execution_count": 21,
   "metadata": {},
   "outputs": [
    {
     "name": "stdout",
     "output_type": "stream",
     "text": [
      "The squareroot of 100 is 10.0\n",
      "The squareroot of 88 is 9.38083151964686\n"
     ]
    }
   ],
   "source": [
    "def squareroot(a):\n",
    "    squareroot = a ** (1/2)\n",
    "    print(\"The squareroot of {} is {}\".format(a,squareroot))\n",
    "squareroot(100)\n",
    "squareroot(88)"
   ]
  },
  {
   "cell_type": "code",
   "execution_count": 22,
   "metadata": {},
   "outputs": [],
   "source": [
    "# Create a function to find square and cube of number.\n",
    "sq = 1\n",
    "def sqr(x):\n",
    "    a = x * x\n",
    "    b = x * x * x\n",
    "    return \"Square is\"+str(a)+\"and cube is \"+str(b);\n"
   ]
  },
  {
   "cell_type": "code",
   "execution_count": 30,
   "metadata": {},
   "outputs": [
    {
     "data": {
      "text/plain": [
       "(9, 27)"
      ]
     },
     "execution_count": 30,
     "metadata": {},
     "output_type": "execute_result"
    }
   ],
   "source": [
    "# Create a function to find square and cube of number.\n",
    "def square_cube(x):\n",
    "        square = x ** 2\n",
    "        cube = x ** 3\n",
    "        return square,cube\n",
    "square_cube(3)"
   ]
  },
  {
   "cell_type": "code",
   "execution_count": 37,
   "metadata": {},
   "outputs": [
    {
     "name": "stdout",
     "output_type": "stream",
     "text": [
      "The Square of 100 is 10000, Cube is 1000000\n"
     ]
    }
   ],
   "source": [
    "# Create a function to find square and cube of number.\n",
    "def Square_Cube(a):\n",
    "    Square = a ** 2\n",
    "    Cube = a ** 3\n",
    "    print(\"The Square of {} is {}, Cube is {}\".format(a,Square,Cube))\n",
    "Square_Cube(100)\n"
   ]
  },
  {
   "cell_type": "code",
   "execution_count": null,
   "metadata": {},
   "outputs": [],
   "source": []
  }
 ],
 "metadata": {
  "kernelspec": {
   "display_name": "Python 3",
   "language": "python",
   "name": "python3"
  },
  "language_info": {
   "codemirror_mode": {
    "name": "ipython",
    "version": 3
   },
   "file_extension": ".py",
   "mimetype": "text/x-python",
   "name": "python",
   "nbconvert_exporter": "python",
   "pygments_lexer": "ipython3",
   "version": "3.7.6"
  }
 },
 "nbformat": 4,
 "nbformat_minor": 4
}
